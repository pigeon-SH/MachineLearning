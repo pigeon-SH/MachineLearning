{
  "nbformat": 4,
  "nbformat_minor": 0,
  "metadata": {
    "colab": {
      "name": "CatDogImageClassifier.ipynb",
      "provenance": [],
      "collapsed_sections": [],
      "authorship_tag": "ABX9TyPqElXMDfN0U4J/1hxnd6Zz"
    },
    "kernelspec": {
      "name": "python3",
      "display_name": "Python 3"
    },
    "language_info": {
      "name": "python"
    },
    "accelerator": "GPU"
  },
  "cells": [
    {
      "cell_type": "code",
      "source": [
        "# import and mount drive\n",
        "import cv2\n",
        "import numpy as np\n",
        "from google.colab import drive\n",
        "drive.mount('/gdrive', force_remount=True)"
      ],
      "metadata": {
        "colab": {
          "base_uri": "https://localhost:8080/"
        },
        "id": "bNFJ-SS9RS8w",
        "outputId": "dae1de93-c0d8-4c7e-bce5-a3cf056e85a7"
      },
      "execution_count": 23,
      "outputs": [
        {
          "output_type": "stream",
          "name": "stdout",
          "text": [
            "Mounted at /gdrive\n"
          ]
        }
      ]
    },
    {
      "cell_type": "code",
      "source": [
        "# load images\n",
        "catimages = []\n",
        "catimages_num = 393\n",
        "for i in range(catimages_num):\n",
        "    img_file = '/gdrive/MyDrive/CS/Image Classifier/ImageCat/cat' + str(i) + '.jpg'\n",
        "    img = cv2.imread(img_file)\n",
        "\n",
        "    catimages.append(img)\n",
        "\n",
        "dogimages = []\n",
        "dogimages_num = 401\n",
        "for i in range(dogimages_num):\n",
        "    img_file = '/gdrive/MyDrive/CS/Image Classifier/ImageDog/dog' + str(i) + '.jpg'\n",
        "    img = cv2.imread(img_file)\n",
        "\n",
        "    dogimages.append(img)\n",
        "imgHeight = len(catimages[0][0])\n",
        "imgChannel = len(catimages[0][0][0])"
      ],
      "metadata": {
        "id": "nSnKA9QH8A1Q"
      },
      "execution_count": 51,
      "outputs": []
    },
    {
      "cell_type": "code",
      "source": [
        "from google.colab.patches import cv2_imshow\n",
        "# resize images to 32 * 32 pixels\n",
        "for i in range(catimages_num):\n",
        "    catimages[i] = cv2.resize(catimages[i], dsize=(32, 32), interpolation=cv2.INTER_AREA)\n",
        "\n",
        "cv2_imshow(catimages[0])\n",
        "print()\n",
        "\n",
        "for i in range(dogimages_num):\n",
        "    dogimages[i] = cv2.resize(dogimages[i], dsize=(32, 32), interpolation=cv2.INTER_AREA)\n",
        "cv2_imshow(dogimages[0])"
      ],
      "metadata": {
        "colab": {
          "base_uri": "https://localhost:8080/",
          "height": 99
        },
        "id": "sHA0c9SH7l1g",
        "outputId": "4ea16803-5427-49a9-9c4d-ad5451fa9f0b"
      },
      "execution_count": 52,
      "outputs": [
        {
          "output_type": "display_data",
          "data": {
            "image/png": "[encoded data removed]",
            "text/plain": [
              "<PIL.Image.Image image mode=RGB size=32x32 at 0x7F029A7BDA10>"
            ]
          },
          "metadata": {}
        },
        {
          "output_type": "stream",
          "name": "stdout",
          "text": [
            "\n"
          ]
        },
        {
          "output_type": "display_data",
          "data": {
            "image/png": "[encoded data removed]",
            "text/plain": [
              "<PIL.Image.Image image mode=RGB size=32x32 at 0x7F0299F47350>"
            ]
          },
          "metadata": {}
        }
      ]
    },
    {
      "cell_type": "code",
      "source": [
        "#make trainImages, trainLabel, testImage, testLabel\n",
        "#Label 0: cat, 1: dog\n",
        "#transpose version\n",
        "cattest_num = catimages_num % 100\n",
        "dogtest_num = dogimages_num % 100 + 50\n",
        "cattrain_num = catimages_num - cattest_num\n",
        "dogtrain_num = dogimages_num - dogtest_num\n",
        "\n",
        "train_num = cattrain_num + dogtrain_num\n",
        "test_num = catimages_num + dogimages_num - train_num\n",
        "\n",
        "trainImages = np.zeros((train_num, imgChannel, 32, 32))\n",
        "testImages = np.zeros((test_num, imgChannel, 32, 32))\n",
        "trainLabel = np.zeros((train_num, 2))\n",
        "testLabel = np.zeros((test_num, 2))\n",
        "\n",
        "for i in range(cattrain_num):\n",
        "    trainImages[i] = catimages[i].T\n",
        "    trainLabel[i][0] = 1\n",
        "for i in range(dogtrain_num):\n",
        "    trainImages[i + cattrain_num] = dogimages[i].T\n",
        "    trainLabel[i + cattrain_num][1] = 1\n",
        "\n",
        "for i in range(cattest_num):\n",
        "    testImages[i] = catimages[i + cattrain_num].T\n",
        "    testLabel[i][0] = 1\n",
        "for i in range(dogtest_num):\n",
        "    testImages[i + cattest_num] = dogimages[i + dogtrain_num].T\n",
        "    testLabel[i + cattest_num][1] = 1\n",
        "\n",
        "print(\"trainImages shape\", trainImages.shape)\n",
        "print(\"testImages shape\", testImages.shape)\n",
        "print(\"trainLabel shape\", trainLabel.shape)\n",
        "print(\"testLabel shape\", testLabel.shape)\n",
        "\n",
        "#shuffle\n",
        "randomidx = np.arange(len(trainLabel))\n",
        "trainImages = trainImages[randomidx]\n",
        "trainLabel = trainLabel[randomidx]\n",
        "\n",
        "randomidx = np.arange(len(testLabel))\n",
        "testImages = testImages[randomidx]\n",
        "testLabel = testLabel[randomidx]"
      ],
      "metadata": {
        "colab": {
          "base_uri": "https://localhost:8080/"
        },
        "id": "25j5XmT0IqyE",
        "outputId": "f440e1df-a3fb-4cc8-de0c-7f0858c566d1"
      },
      "execution_count": 39,
      "outputs": [
        {
          "output_type": "stream",
          "name": "stdout",
          "text": [
            "trainImages shape (650, 3, 32, 32)\n",
            "testImages shape (144, 3, 32, 32)\n",
            "trainLabel shape (650, 2)\n",
            "testLabel shape (144, 2)\n"
          ]
        }
      ]
    },
    {
      "cell_type": "markdown",
      "source": [
        "CNN with pytorch module"
      ],
      "metadata": {
        "id": "SRnaSQIbRQQ-"
      }
    },
    {
      "cell_type": "code",
      "source": [
        "from torch.nn.modules.activation import ReLU\n",
        "import torch.nn as nn\n",
        "import torch\n",
        "\n",
        "class CNN(nn.Module):\n",
        "    def __init__(self, input_channel, input_size, class_num):\n",
        "        super(CNN,self).__init__()\n",
        "        self.convSeq = nn.Sequential(\n",
        "            nn.Conv2d(input_channel, 12, 3),    #(n*n*input_channel) => ((n-2)*(n-2)*12)\n",
        "            nn.ReLU(),\n",
        "            nn.Conv2d(12, 12, 3),   #((n-2)*(n-2)*12) => ((n-4)*(n-4)*12)\n",
        "            nn.ReLU(),\n",
        "            nn.MaxPool2d(2),    #((n-4)*(n-4)*12) => ((n-4)/2)*((n-4)/2)*12\n",
        "            nn.Conv2d(12, 24, 3),\n",
        "            nn.ReLU(),\n",
        "            nn.Conv2d(24, 24, 3),\n",
        "            nn.ReLU(),\n",
        "            nn.MaxPool2d(2)\n",
        "            #if n=32, output shape of convSeq is (batch_size, 5, 5, 24)\n",
        "        )\n",
        "        afterConvSize = (((input_size - 4) // 2) - 4) // 2\n",
        "        self.FCSeq = nn.Sequential(\n",
        "            nn.Linear(afterConvSize * afterConvSize * 24 , 200),\n",
        "            nn.ReLU(),\n",
        "            nn.Linear(200, 400),\n",
        "            nn.ReLU(),\n",
        "            nn.Linear(400, 600),\n",
        "            nn.ReLU(),\n",
        "            nn.Linear(600, 800),\n",
        "            nn.ReLU(),\n",
        "            nn.Linear(800, 400),\n",
        "            nn.ReLU(),\n",
        "            nn.Linear(400, class_num),\n",
        "            nn.Sigmoid()\n",
        "        )\n",
        "\n",
        "    def flatten(self, input):\n",
        "        return torch.flatten(input, 1)\n",
        "        \n",
        "    def forward(self, input):\n",
        "        x = self.convSeq(input)\n",
        "        x = self.flatten(x)\n",
        "        x = self.FCSeq(x)\n",
        "        return x\n"
      ],
      "metadata": {
        "id": "NVw-howRUr81"
      },
      "execution_count": 53,
      "outputs": []
    },
    {
      "cell_type": "code",
      "source": [
        "device=torch.device(\"cuda\" if torch.cuda.is_available() else \"cpu\")\n",
        "\n",
        "print('device_check:',device)"
      ],
      "metadata": {
        "colab": {
          "base_uri": "https://localhost:8080/"
        },
        "id": "pu20T1O5JBMD",
        "outputId": "2895bdf9-e8df-483a-9565-5c2f4c4bbd57"
      },
      "execution_count": 41,
      "outputs": [
        {
          "output_type": "stream",
          "name": "stdout",
          "text": [
            "device_check: cuda\n"
          ]
        }
      ]
    },
    {
      "cell_type": "code",
      "source": [
        "#train Image\n",
        "EPOCHS = 1000\n",
        "batch_size = 60\n",
        "model = CNN(imgChannel, 32, 2)\n",
        "model.to(device)\n",
        "optimizer = torch.optim.Adam(model.parameters(), lr=0.1)\n",
        "loss_fn = nn.CrossEntropyLoss()\n",
        "\n",
        "for i in range(EPOCHS):\n",
        "    for batch_num in range(len(trainImages) // batch_size + 1):\n",
        "        if batch_num != len(trainImages) // batch_size:\n",
        "            batchImage = trainImages[batch_num * batch_size : (batch_num + 1) * batch_size, :, :, :]\n",
        "            batchLabel = trainLabel[batch_num * batch_size : (batch_num + 1) * batch_size, :]\n",
        "        else:\n",
        "            batchImage = trainImages[batch_num * batch_size :, :, :, :]\n",
        "            batchLabel = trainLabel[batch_num * batch_size :, :]\n",
        "        \n",
        "        batchImage = torch.tensor(batchImage, dtype=torch.float32, device=device)\n",
        "        batchLabel = torch.tensor(batchLabel, dtype=torch.float32, device=device)\n",
        "\n",
        "        pred = model(batchImage)\n",
        "        loss = loss_fn(pred, batchLabel)\n",
        "\n",
        "        optimizer.zero_grad()\n",
        "        loss.backward()\n",
        "        optimizer.step()\n",
        "    \n",
        "    if i % 100 == 0:\n",
        "        print(\"i: {:4d} || loss: {:.3f}\".format(i, loss))\n"
      ],
      "metadata": {
        "id": "8IGedkyy8dmP",
        "colab": {
          "base_uri": "https://localhost:8080/"
        },
        "outputId": "2065d7d3-e85c-4942-8828-9af6334ed23b"
      },
      "execution_count": 49,
      "outputs": [
        {
          "output_type": "stream",
          "name": "stdout",
          "text": [
            "i:    0 || loss: 1.313\n",
            "i:  100 || loss: 1.313\n",
            "i:  200 || loss: 1.313\n",
            "i:  300 || loss: 1.313\n",
            "i:  400 || loss: 1.313\n",
            "i:  500 || loss: 1.313\n",
            "i:  600 || loss: 1.313\n",
            "i:  700 || loss: 1.313\n",
            "i:  800 || loss: 1.313\n",
            "i:  900 || loss: 1.313\n"
          ]
        }
      ]
    },
    {
      "cell_type": "code",
      "source": [
        "#evaluate\n",
        "testX = torch.tensor(testImages, dtype=torch.float32, device=device)\n",
        "testY = torch.tensor(testLabel, dtype=torch.float32, device=device)\n",
        "with torch.no_grad():\n",
        "    prediction = model(testX)\n",
        "\n",
        "    accuracy = np.equal(prediction.cpu().numpy(), testY.cpu().numpy()).mean()\n",
        "\n",
        "print(\"Accuracy: {:.4f}\".format(accuracy))"
      ],
      "metadata": {
        "id": "0v4dHdHTHl5s",
        "colab": {
          "base_uri": "https://localhost:8080/"
        },
        "outputId": "819a675e-560d-4327-eb45-8337c8b9affa"
      },
      "execution_count": 50,
      "outputs": [
        {
          "output_type": "stream",
          "name": "stdout",
          "text": [
            "Accuracy: 0.6458\n"
          ]
        }
      ]
    },
    {
      "cell_type": "code",
      "source": [
        ""
      ],
      "metadata": {
        "id": "fjqDYjs2TvPh"
      },
      "execution_count": null,
      "outputs": []
    },
    {
      "cell_type": "code",
      "source": [
        "# Do not use this cell: image size 600 * 636 is too large, it causes RAM overflow\n",
        "\n",
        "from google.colab.patches import cv2_imshow\n",
        "# all images have same Height, same Channels but various Width\n",
        "# if Width is smaller than 600, put values in middle-Width, and fill rest area with 0\n",
        "# all images size: 600*imgHeight*imgChannel\n",
        "imgWidth = 600\n",
        "for i in range(catimages_num):\n",
        "    if len(catimages[i]) < imgWidth:\n",
        "        topBlanks = (imgWidth - len(catimages[i])) // 2\n",
        "        bottomBlanks = imgWidth - topBlanks - len(catimages[i])\n",
        "\n",
        "        resizedImg = np.zeros((imgWidth, imgHeight, imgChannel))\n",
        "        for w in range(len(catimages[i])):\n",
        "            resizedImg[w + topBlanks] = catimages[i][w]\n",
        "        catimages[i] = resizedImg\n",
        "cv2_imshow(catimages[0])\n",
        "print()\n",
        "\n",
        "for i in range(dogimages_num):\n",
        "    if len(dogimages[i]) < imgWidth:\n",
        "        topBlanks = (imgWidth - len(dogimages[i])) // 2\n",
        "        bottomBlanks = imgWidth - topBlanks - len(dogimages[i])\n",
        "\n",
        "        resizedImg = np.zeros((imgWidth, imgHeight, imgChannel))\n",
        "        for w in range(len(dogimages[i])):\n",
        "            resizedImg[w + topBlanks] = dogimages[i][w]\n",
        "        dogimages[i] = resizedImg\n",
        "cv2_imshow(dogimages[0])"
      ],
      "metadata": {
        "id": "6Ax7ul_zSjwn"
      },
      "execution_count": null,
      "outputs": []
    },
    {
      "cell_type": "code",
      "source": [
        "#Do not use this cell: size should be (batch_size, channel, width, height) and so needs transpose\n",
        "#make trainImages, trainLabel, testImage, testLabel\n",
        "#Label 0: cat, 1: dog\n",
        "cattest_num = catimages_num % 100\n",
        "dogtest_num = dogimages_num % 100\n",
        "cattrain_num = catimages_num - cattest_num\n",
        "dogtrain_num = dogimages_num - dogtest_num\n",
        "\n",
        "train_num = cattrain_num + dogtrain_num\n",
        "test_num = catimages_num + dogimages_num - train_num\n",
        "\n",
        "trainImages = np.zeros((train_num, 32, 32, imgChannel))\n",
        "testImages = np.zeros((test_num, 32, 32, imgChannel))\n",
        "trainLabel = np.zeros((train_num, 2))\n",
        "testLabel = np.zeros((test_num, 2))\n",
        "\n",
        "for i in range(cattrain_num):\n",
        "    trainImages[i] = catimages[i]\n",
        "    trainLabel[i][0] = 1\n",
        "for i in range(dogtrain_num):\n",
        "    trainImages[i + cattrain_num] = dogimages[i]\n",
        "    trainLabel[i + cattrain_num][1] = 1\n",
        "\n",
        "for i in range(cattest_num):\n",
        "    testImages[i] = catimages[i + cattrain_num]\n",
        "    testLabel[i][0] = 1\n",
        "for i in range(dogtest_num):\n",
        "    testImages[i + cattest_num] = dogimages[i + dogtrain_num]\n",
        "    testLabel[i + cattest_num][1] = 1\n",
        "\n",
        "print(\"trainImages shape\", trainImages.shape)\n",
        "print(\"testImages shape\", testImages.shape)\n",
        "print(\"trainLabel shape\", trainLabel.shape)\n",
        "print(\"testLabel shape\", testLabel.shape)\n",
        "\n",
        "#shuffle\n",
        "randomidx = np.arange(len(trainLabel))\n",
        "trainImages = trainImages[randomidx]\n",
        "trainLabel = trainLabel[randomidx]\n",
        "\n",
        "randomidx = np.arange(len(testLabel))\n",
        "testImages = testImages[randomidx]\n",
        "testLabel = testLabel[randomidx]"
      ],
      "metadata": {
        "colab": {
          "base_uri": "https://localhost:8080/"
        },
        "id": "WPkKwV1nt5JM",
        "outputId": "c885ba3c-2caf-4dc8-df33-9a728516117d"
      },
      "execution_count": null,
      "outputs": [
        {
          "output_type": "stream",
          "name": "stdout",
          "text": [
            "trainImages shape (700, 32, 32, 3)\n",
            "testImages shape (94, 32, 32, 3)\n",
            "trainLabel shape (700, 2)\n",
            "testLabel shape (94, 2)\n"
          ]
        }
      ]
    }
  ]
}